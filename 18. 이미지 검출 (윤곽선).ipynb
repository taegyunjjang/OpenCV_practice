{
 "cells": [
  {
   "cell_type": "markdown",
   "id": "f2e548f0",
   "metadata": {},
   "source": [
    "# 18. 이미지 검출 (윤곽선)"
   ]
  },
  {
   "cell_type": "markdown",
   "id": "4c709e37",
   "metadata": {},
   "source": [
    "## 윤곽선(Contour) : 경계선을 연결한 선"
   ]
  },
  {
   "cell_type": "code",
   "execution_count": 5,
   "id": "9dffb5cf",
   "metadata": {},
   "outputs": [],
   "source": [
    "import cv2\n",
    "\n",
    "img = cv2.imread('card.png')\n",
    "target_img = img.copy()  # 사본 이미지\n",
    "\n",
    "gray = cv2.cvtColor(img, cv2.COLOR_BGR2GRAY)\n",
    "ret, otsu = cv2.threshold(gray, -1, 255, cv2.THRESH_BINARY | cv2.THRESH_OTSU)\n",
    "\n",
    "# 윤곽선 정보, 계층 구조\n",
    "# 이미지, 윤곽선 찾는 모드(mode), 윤곽선 찾을 때 사용하는 근사치 방법(method) : CHAIN_APPROX_NONE(모든 좌표 반환), CHAIN_APPROX_SIMPLE(꼭짓점 좌표 반환)\n",
    "contours, hierarchy = cv2.findContours(otsu, cv2.RETR_LIST, cv2.CHAIN_APPROX_NONE)  # 윤곽선 검출\n",
    "\n",
    "COLOR = (0, 200, 0)  # 녹색\n",
    "THICKNESS = 2\n",
    "\n",
    "# 윤곽선 그리기\n",
    "# 대상 이미지, 윤곽선 정보, 인덱스 (-1:전체), 색깔, 두께\n",
    "cv2.drawContours(target_img, contours, -1, COLOR, THICKNESS)\n",
    "\n",
    "cv2.imshow('img', img)\n",
    "cv2.imshow('gray', gray)\n",
    "cv2.imshow('otsu', otsu)\n",
    "cv2.imshow('contour', target_img)\n",
    "cv2.waitKey(0)\n",
    "cv2.destroyAllWindows()"
   ]
  },
  {
   "cell_type": "markdown",
   "id": "267597d9",
   "metadata": {},
   "source": [
    "### 윤곽선 찾기 모드\n",
    "1. cv2.RETR_EXTERNAL : 가장 외곽의 윤곽선만 찾음\n",
    "2. cv2.RETR_LIST : 모든 윤곽선 찾음 (계층 정보 없음)\n",
    "3. cv2.RETR_TREE : 모든 윤곽선 찾음 (계층 정보를 트리 구조로 생성)"
   ]
  },
  {
   "cell_type": "code",
   "execution_count": 11,
   "id": "1d4d8978",
   "metadata": {},
   "outputs": [],
   "source": [
    "import cv2\n",
    "\n",
    "img = cv2.imread('card.png')\n",
    "target_img = img.copy()  # 사본 이미지\n",
    "\n",
    "gray = cv2.cvtColor(img, cv2.COLOR_BGR2GRAY)\n",
    "ret, otsu = cv2.threshold(gray, -1, 255, cv2.THRESH_BINARY | cv2.THRESH_OTSU)\n",
    "\n",
    "# contours, hierarchy = cv2.findContours(otsu, cv2.RETR_LIST, cv2.CHAIN_APPROX_NONE)\n",
    "contours, hierarchy = cv2.findContours(otsu, cv2.RETR_EXTERNAL, cv2.CHAIN_APPROX_NONE)\n",
    "# contours, hierarchy = cv2.findContours(otsu, cv2.RETR_TREE, cv2.CHAIN_APPROX_NONE)\n",
    "# print(hierarchy)\n",
    "# print(f\"총 발견 개수 : {len(contours)}\")\n",
    "\n",
    "COLOR = (0, 200, 0)  # 녹색\n",
    "THICKNESS = 2\n",
    "\n",
    "cv2.drawContours(target_img, contours, -1, COLOR, THICKNESS)\n",
    "\n",
    "cv2.imshow('img', img)\n",
    "cv2.imshow('gray', gray)\n",
    "cv2.imshow('otsu', otsu)\n",
    "cv2.imshow('contour', target_img)\n",
    "cv2.waitKey(0)\n",
    "cv2.destroyAllWindows()"
   ]
  },
  {
   "cell_type": "markdown",
   "id": "b55f2140",
   "metadata": {},
   "source": [
    "## 경계 사각형\n",
    "윤곽선의 경계면을 둘러싸는 사각형\n",
    "> boundingRect()"
   ]
  },
  {
   "cell_type": "code",
   "execution_count": 13,
   "id": "7a00e780",
   "metadata": {},
   "outputs": [],
   "source": [
    "import cv2\n",
    "\n",
    "img = cv2.imread('card.png')\n",
    "target_img = img.copy()  # 사본 이미지\n",
    "\n",
    "gray = cv2.cvtColor(img, cv2.COLOR_BGR2GRAY)\n",
    "ret, otsu = cv2.threshold(gray, -1, 255, cv2.THRESH_BINARY | cv2.THRESH_OTSU)\n",
    "\n",
    "contours, hierarchy = cv2.findContours(otsu, cv2.RETR_LIST, cv2.CHAIN_APPROX_NONE)\n",
    "\n",
    "COLOR = (0, 200, 0)  # 녹색\n",
    "THICKNESS = 2\n",
    "\n",
    "for cnt in contours:\n",
    "    x, y, width, height = cv2.boundingRect(cnt)  # cnt : 윤곽선을 둘러싸는 사각형 정보\n",
    "    cv2.rectangle(target_img, (x, y), (x + width, y + height), COLOR, THICKNESS)  # 사각형 그림\n",
    "\n",
    "cv2.imshow('img', img)\n",
    "cv2.imshow('gray', gray)\n",
    "cv2.imshow('otsu', otsu)\n",
    "cv2.imshow('contour', target_img)\n",
    "cv2.waitKey(0)\n",
    "cv2.destroyAllWindows()"
   ]
  },
  {
   "cell_type": "markdown",
   "id": "40b97e7c",
   "metadata": {},
   "source": [
    "## 면적\n",
    "> contourArea()"
   ]
  },
  {
   "cell_type": "code",
   "execution_count": 15,
   "id": "60f5d6b8",
   "metadata": {},
   "outputs": [],
   "source": [
    "import cv2\n",
    "\n",
    "img = cv2.imread('card.png')\n",
    "target_img = img.copy()  # 사본 이미지\n",
    "\n",
    "gray = cv2.cvtColor(img, cv2.COLOR_BGR2GRAY)\n",
    "ret, otsu = cv2.threshold(gray, -1, 255, cv2.THRESH_BINARY | cv2.THRESH_OTSU)\n",
    "\n",
    "contours, hierarchy = cv2.findContours(otsu, cv2.RETR_LIST, cv2.CHAIN_APPROX_NONE)\n",
    "\n",
    "COLOR = (0, 200, 0)  # 녹색\n",
    "THICKNESS = 2\n",
    "\n",
    "for cnt in contours:\n",
    "    if cv2.contourArea(cnt) > 25000:  # 카드 한 장의 크기\n",
    "        x, y, width, height = cv2.boundingRect(cnt)\n",
    "        cv2.rectangle(target_img, (x, y), (x + width, y + height), COLOR, THICKNESS)\n",
    "\n",
    "cv2.imshow('img', img)\n",
    "cv2.imshow('contour', target_img)\n",
    "cv2.waitKey(0)\n",
    "cv2.destroyAllWindows()"
   ]
  },
  {
   "cell_type": "markdown",
   "id": "1e31dd17",
   "metadata": {},
   "source": [
    "## 미니 프로젝트: 개별 카드를 추출해서 파일 저장"
   ]
  },
  {
   "cell_type": "code",
   "execution_count": 16,
   "id": "d1faa909",
   "metadata": {},
   "outputs": [],
   "source": [
    "import cv2\n",
    "\n",
    "img = cv2.imread('card.png')\n",
    "target_img = img.copy()  # 사본 이미지\n",
    "\n",
    "gray = cv2.cvtColor(img, cv2.COLOR_BGR2GRAY)\n",
    "ret, otsu = cv2.threshold(gray, -1, 255, cv2.THRESH_BINARY | cv2.THRESH_OTSU)\n",
    "\n",
    "contours, hierarchy = cv2.findContours(otsu, cv2.RETR_LIST, cv2.CHAIN_APPROX_NONE)\n",
    "\n",
    "COLOR = (0, 200, 0)  # 녹색\n",
    "THICKNESS = 2\n",
    "\n",
    "idx = 1\n",
    "for cnt in contours:\n",
    "    if cv2.contourArea(cnt) > 25000:  # 카드 한 장의 크기\n",
    "        x, y, width, height = cv2.boundingRect(cnt)\n",
    "        cv2.rectangle(target_img, (x, y), (x + width, y + height), COLOR, THICKNESS)\n",
    "        \n",
    "        crop = img[y:y + height, x:x + width]\n",
    "        cv2.imshow(f\"card_crop_{idx}\", crop)\n",
    "        cv2.imwrite(f\"card_crop{idx}.png\", crop)  # 파일 저장\n",
    "        idx += 1\n",
    "        \n",
    "cv2.imshow('img', img)\n",
    "cv2.imshow('contour', target_img)\n",
    "cv2.waitKey(0)\n",
    "cv2.destroyAllWindows()"
   ]
  }
 ],
 "metadata": {
  "kernelspec": {
   "display_name": "Python 3 (ipykernel)",
   "language": "python",
   "name": "python3"
  },
  "language_info": {
   "codemirror_mode": {
    "name": "ipython",
    "version": 3
   },
   "file_extension": ".py",
   "mimetype": "text/x-python",
   "name": "python",
   "nbconvert_exporter": "python",
   "pygments_lexer": "ipython3",
   "version": "3.11.5"
  }
 },
 "nbformat": 4,
 "nbformat_minor": 5
}
